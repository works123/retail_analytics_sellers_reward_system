{
 "cells": [
  {
   "cell_type": "markdown",
   "metadata": {},
   "source": [
    "## Retial Analytics Juptyer Notebook Starter Pack\n",
    "### Sellers' Reward System Management Dashboard and Performance Prediction System POC for Zimla (Ecommerce Marketplace Company)"
   ]
  },
  {
   "cell_type": "markdown",
   "metadata": {},
   "source": [
    "### How to access Kaggle dataset \n"
   ]
  },
  {
   "cell_type": "markdown",
   "metadata": {},
   "source": [
    "##### Note to use Kaggle API\n",
    "1. you would need to create a Kaggle account. Sign up here\n",
    "2. retrieve to authentication credential after logging into Kaggle visit your <strong>Account</strong> page, scroll down to the API section and click on 'Create New API Token'\n",
    "3. this would download a kaggle.json file on your PC. You are required to move this json file to the folder location 'C:\\Users<Windows-username>.kaggle\\' so that you have full file path that looks like this 'C:\\Users<Windows-username>.kaggle\\kaggle.json'\n",
    "4. completing step 1 to 3 would be adequate for the this project\n",
    "\n",
    "refer to the [Kaggle API documentation](https://www.kaggle.com/docs/api#getting-started-installation-&-authentication) for more details "
   ]
  },
  {
   "cell_type": "code",
   "execution_count": null,
   "metadata": {},
   "outputs": [],
   "source": [
    "# package to access kaggle api\n",
    "!pip install kaggle"
   ]
  },
  {
   "cell_type": "code",
   "execution_count": 2,
   "metadata": {},
   "outputs": [],
   "source": [
    "# Download the  Olist dataset\n",
    "import kaggle\n",
    "kaggle.api.dataset_download_files('olistbr/brazilian-ecommerce', path='data/', unzip=True)"
   ]
  },
  {
   "cell_type": "markdown",
   "metadata": {},
   "source": [
    "### Import relevant Python packages"
   ]
  },
  {
   "cell_type": "code",
   "execution_count": 6,
   "metadata": {},
   "outputs": [],
   "source": [
    "import pandas as pd\n",
    "import numpy as np"
   ]
  },
  {
   "cell_type": "markdown",
   "metadata": {},
   "source": [
    "### Dataset Details:  \n",
    "Details on the Dataset can be found here - [Brazilian E-Commerce Public Dataset by Olist](https://www.kaggle.com/olistbr/brazilian-ecommerce)"
   ]
  },
  {
   "cell_type": "markdown",
   "metadata": {},
   "source": [
    "### Dataset Relationship Diagram\n"
   ]
  },
  {
   "cell_type": "markdown",
   "metadata": {},
   "source": [
    "![title](https://i.imgur.com/HRhd2Y0.png)"
   ]
  },
  {
   "cell_type": "markdown",
   "metadata": {},
   "source": [
    "#### Load dataset"
   ]
  },
  {
   "cell_type": "code",
   "execution_count": 8,
   "metadata": {},
   "outputs": [],
   "source": [
    "customers = pd.read_csv('data/olist_customers_dataset.csv')\n",
    "geolocation = pd.read_csv('data/olist_geolocation_dataset.csv')\n",
    "order_items = pd.read_csv('data/olist_order_items_dataset.csv')\n",
    "order_payments = pd.read_csv('data/olist_order_payments_dataset.csv')\n",
    "order_reviews = pd.read_csv('data/olist_order_reviews_dataset.csv')\n",
    "order = pd.read_csv('data/olist_orders_dataset.csv')\n",
    "products = pd.read_csv('data/olist_products_dataset.csv')\n",
    "sellers = pd.read_csv('data/olist_sellers_dataset.csv')\n",
    "\n",
    "product_category_translation =  pd.read_csv('data/product_category_name_translation.csv')  #English translation for the products"
   ]
  }
 ],
 "metadata": {
  "kernelspec": {
   "display_name": "Python 3",
   "language": "python",
   "name": "python3"
  },
  "language_info": {
   "codemirror_mode": {
    "name": "ipython",
    "version": 3
   },
   "file_extension": ".py",
   "mimetype": "text/x-python",
   "name": "python",
   "nbconvert_exporter": "python",
   "pygments_lexer": "ipython3",
   "version": "3.8.5"
  }
 },
 "nbformat": 4,
 "nbformat_minor": 4
}
